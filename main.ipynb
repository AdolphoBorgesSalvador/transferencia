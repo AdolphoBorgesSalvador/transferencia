{
 "cells": [
  {
   "cell_type": "code",
   "execution_count": 19,
   "id": "86f43b22",
   "metadata": {},
   "outputs": [],
   "source": [
    "import pandas as pd\n",
    "import psycopg2\n",
    "from sqlalchemy import create_engine, text\n",
    "import os\n",
    "import glob\n",
    "from pathlib import Path\n",
    "import re\n",
    "import unicodedata\n"
   ]
  },
  {
   "cell_type": "code",
   "execution_count": 20,
   "id": "58c5aabb",
   "metadata": {},
   "outputs": [
    {
     "name": "stdout",
     "output_type": "stream",
     "text": [
      "✅ Conexão com PostgreSQL estabelecida!\n"
     ]
    }
   ],
   "source": [
    "def conectar_postgres():\n",
    "    \"\"\"Conecta ao PostgreSQL no Docker\"\"\"\n",
    "    try:\n",
    "        host = 'localhost'\n",
    "        port = '5432'\n",
    "        database = 'postgres'\n",
    "        username = 'postgres'\n",
    "        password = 'minhasenha'\n",
    "        \n",
    "        connection_string = f'postgresql://{username}:{password}@{host}:{port}/{database}'\n",
    "        engine = create_engine(connection_string)\n",
    "        print(\"✅ Conexão com PostgreSQL estabelecida!\")\n",
    "        return engine\n",
    "    \n",
    "    except Exception as e:\n",
    "        print(f\"❌ Erro ao conectar: {e}\")\n",
    "        return None\n",
    "engine = conectar_postgres()"
   ]
  },
  {
   "cell_type": "code",
   "execution_count": null,
   "id": "35e0f6ef",
   "metadata": {},
   "outputs": [],
   "source": [
    "query_zmb51 = \"\"\"\n",
    "-- zmb51: movimentações no último ano\n",
    "SELECT\n",
    "    material,\n",
    "    centro,\n",
    "    qtd_um_registro,\n",
    "    canal,\n",
    "    data_de_lancamento\n",
    "FROM power_bi.zmb51\n",
    "WHERE material IN (\n",
    "    'A8K3430',\n",
    "    'A8K3230',\n",
    "    'AAV8230',\n",
    "    'AAV8330',\n",
    "    'T671600'\n",
    ")\n",
    "AND data_de_lancamento >= CURRENT_DATE - INTERVAL '12 months';\n",
    "\n",
    "\n",
    "\"\"\"\n",
    "query_zstok = \"\"\"\n",
    "-- zstok: estoque atual por material\n",
    "SELECT\n",
    "    material,\n",
    "    estoque_total,\n",
    "    cen AS centro\n",
    "FROM power_bi.zstok\n",
    "WHERE material IN (\n",
    "    'A8K3430',\n",
    "    'A8K3230',\n",
    "    'AAV8230',\n",
    "    'AAV8330',\n",
    "    'T671600'\n",
    ");\n",
    "\"\"\"\n",
    "query_fup = \"\"\"\n",
    "-- fup: previsões de entrada por material\n",
    "SELECT\n",
    "    material,\n",
    "    qtde_pedido,\n",
    "    data_prev_entrada,\n",
    "    data_de_remessa\n",
    "FROM power_bi.fup\n",
    "WHERE material IN (\n",
    "    'A8K3430',\n",
    "    'A8K3230',\n",
    "    'AAV8230',\n",
    "    'AAV8330',\n",
    "    'T671600'\n",
    ");\n",
    "\"\"\""
   ]
  },
  {
   "cell_type": "code",
   "execution_count": 22,
   "id": "8d8761ee",
   "metadata": {},
   "outputs": [],
   "source": [
    "zmb51 = pd.read_sql_query(query_zmb51, engine)\n",
    "zstok = pd.read_sql_query(query_zstok, engine)\n",
    "fup = pd.read_sql_query(query_fup, engine)"
   ]
  },
  {
   "cell_type": "code",
   "execution_count": 30,
   "id": "7e30dc94",
   "metadata": {},
   "outputs": [
    {
     "data": {
      "text/plain": [
       "Index(['material', 'centro', 'qtd_um_registro', 'canal', 'data_de_lancamento'], dtype='object')"
      ]
     },
     "execution_count": 30,
     "metadata": {},
     "output_type": "execute_result"
    }
   ],
   "source": [
    "zmb51.columns"
   ]
  },
  {
   "cell_type": "code",
   "execution_count": 27,
   "id": "eb458b9f",
   "metadata": {},
   "outputs": [],
   "source": [
    "zstok_pivot = zstok.pivot_table(index='material', columns='centro', values='estoque_total')"
   ]
  },
  {
   "cell_type": "code",
   "execution_count": 28,
   "id": "511c4652",
   "metadata": {},
   "outputs": [
    {
     "data": {
      "application/vnd.microsoft.datawrangler.viewer.v0+json": {
       "columns": [
        {
         "name": "material",
         "rawType": "object",
         "type": "string"
        },
        {
         "name": "CE05",
         "rawType": "float64",
         "type": "float"
        },
        {
         "name": "CE07",
         "rawType": "float64",
         "type": "float"
        },
        {
         "name": "CE09",
         "rawType": "float64",
         "type": "float"
        },
        {
         "name": "CE10",
         "rawType": "float64",
         "type": "float"
        },
        {
         "name": "CE11",
         "rawType": "float64",
         "type": "float"
        },
        {
         "name": "CE13",
         "rawType": "float64",
         "type": "float"
        }
       ],
       "ref": "955efb16-bd4f-493b-acdc-cfea3db7dab5",
       "rows": [
        [
         "A8K3230",
         "27.0",
         "16.0",
         "15.0",
         null,
         "12.0",
         "485.0"
        ],
        [
         "A8K3430",
         "118.0",
         "9.0",
         "7.0",
         "1.0",
         "36.0",
         "232.0"
        ],
        [
         "AAV8230",
         "198.0",
         "21.5",
         "77.0",
         null,
         "164.0",
         "1980.0"
        ],
        [
         "AAV8330",
         null,
         "35.0",
         "68.0",
         null,
         "144.0",
         "2088.0"
        ]
       ],
       "shape": {
        "columns": 6,
        "rows": 4
       }
      },
      "text/html": [
       "<div>\n",
       "<style scoped>\n",
       "    .dataframe tbody tr th:only-of-type {\n",
       "        vertical-align: middle;\n",
       "    }\n",
       "\n",
       "    .dataframe tbody tr th {\n",
       "        vertical-align: top;\n",
       "    }\n",
       "\n",
       "    .dataframe thead th {\n",
       "        text-align: right;\n",
       "    }\n",
       "</style>\n",
       "<table border=\"1\" class=\"dataframe\">\n",
       "  <thead>\n",
       "    <tr style=\"text-align: right;\">\n",
       "      <th>centro</th>\n",
       "      <th>CE05</th>\n",
       "      <th>CE07</th>\n",
       "      <th>CE09</th>\n",
       "      <th>CE10</th>\n",
       "      <th>CE11</th>\n",
       "      <th>CE13</th>\n",
       "    </tr>\n",
       "    <tr>\n",
       "      <th>material</th>\n",
       "      <th></th>\n",
       "      <th></th>\n",
       "      <th></th>\n",
       "      <th></th>\n",
       "      <th></th>\n",
       "      <th></th>\n",
       "    </tr>\n",
       "  </thead>\n",
       "  <tbody>\n",
       "    <tr>\n",
       "      <th>A8K3230</th>\n",
       "      <td>27.0</td>\n",
       "      <td>16.0</td>\n",
       "      <td>15.0</td>\n",
       "      <td>NaN</td>\n",
       "      <td>12.0</td>\n",
       "      <td>485.0</td>\n",
       "    </tr>\n",
       "    <tr>\n",
       "      <th>A8K3430</th>\n",
       "      <td>118.0</td>\n",
       "      <td>9.0</td>\n",
       "      <td>7.0</td>\n",
       "      <td>1.0</td>\n",
       "      <td>36.0</td>\n",
       "      <td>232.0</td>\n",
       "    </tr>\n",
       "    <tr>\n",
       "      <th>AAV8230</th>\n",
       "      <td>198.0</td>\n",
       "      <td>21.5</td>\n",
       "      <td>77.0</td>\n",
       "      <td>NaN</td>\n",
       "      <td>164.0</td>\n",
       "      <td>1980.0</td>\n",
       "    </tr>\n",
       "    <tr>\n",
       "      <th>AAV8330</th>\n",
       "      <td>NaN</td>\n",
       "      <td>35.0</td>\n",
       "      <td>68.0</td>\n",
       "      <td>NaN</td>\n",
       "      <td>144.0</td>\n",
       "      <td>2088.0</td>\n",
       "    </tr>\n",
       "  </tbody>\n",
       "</table>\n",
       "</div>"
      ],
      "text/plain": [
       "centro     CE05  CE07  CE09  CE10   CE11    CE13\n",
       "material                                        \n",
       "A8K3230    27.0  16.0  15.0   NaN   12.0   485.0\n",
       "A8K3430   118.0   9.0   7.0   1.0   36.0   232.0\n",
       "AAV8230   198.0  21.5  77.0   NaN  164.0  1980.0\n",
       "AAV8330     NaN  35.0  68.0   NaN  144.0  2088.0"
      ]
     },
     "execution_count": 28,
     "metadata": {},
     "output_type": "execute_result"
    }
   ],
   "source": [
    "zstok_pivot"
   ]
  },
  {
   "cell_type": "code",
   "execution_count": null,
   "id": "1acce01f",
   "metadata": {},
   "outputs": [],
   "source": [
    "zmb51['data_de_lancamento'] = pd.to_datetime(zmb51['data_de_lancamento'])\n",
    "\n",
    "zmb51['ano_mes'] = zmb51['data_de_lancamento'].dt.to_period('M')"
   ]
  },
  {
   "cell_type": "code",
   "execution_count": 35,
   "id": "aafca5c9",
   "metadata": {},
   "outputs": [],
   "source": [
    "zmb51_sem_ce07 = zmb51[zmb51['centro'] != 'CE07']\n",
    "\n",
    "zmb51_ce07 = zmb51[zmb51['centro'] == 'CE07']\n"
   ]
  },
  {
   "cell_type": "code",
   "execution_count": 36,
   "id": "f7712625",
   "metadata": {},
   "outputs": [],
   "source": [
    "zmb51_pivot_sem_ce07 = zmb51_sem_ce07.pivot_table(\n",
    "    index='material',\n",
    "    columns='ano_mes',\n",
    "    values='qtd_um_registro',\n",
    "    aggfunc='sum'\n",
    ")\n",
    "\n",
    "zmb51_pivot_ce07 = zmb51_ce07.pivot_table(\n",
    "    index='material',\n",
    "    columns='ano_mes',\n",
    "    values='qtd_um_registro',\n",
    "    aggfunc='sum'\n",
    "    )"
   ]
  },
  {
   "cell_type": "code",
   "execution_count": 37,
   "id": "cbc9208c",
   "metadata": {},
   "outputs": [
    {
     "data": {
      "application/vnd.microsoft.datawrangler.viewer.v0+json": {
       "columns": [
        {
         "name": "material",
         "rawType": "object",
         "type": "string"
        },
        {
         "name": "2024-06",
         "rawType": "float64",
         "type": "float"
        },
        {
         "name": "2024-07",
         "rawType": "float64",
         "type": "float"
        },
        {
         "name": "2024-08",
         "rawType": "float64",
         "type": "float"
        },
        {
         "name": "2024-09",
         "rawType": "float64",
         "type": "float"
        },
        {
         "name": "2024-10",
         "rawType": "float64",
         "type": "float"
        },
        {
         "name": "2024-11",
         "rawType": "float64",
         "type": "float"
        },
        {
         "name": "2024-12",
         "rawType": "float64",
         "type": "float"
        },
        {
         "name": "2025-01",
         "rawType": "float64",
         "type": "float"
        },
        {
         "name": "2025-02",
         "rawType": "float64",
         "type": "float"
        },
        {
         "name": "2025-03",
         "rawType": "float64",
         "type": "float"
        },
        {
         "name": "2025-04",
         "rawType": "float64",
         "type": "float"
        },
        {
         "name": "2025-05",
         "rawType": "float64",
         "type": "float"
        }
       ],
       "ref": "deb6e64a-a12b-4240-b069-83fe1d1d837e",
       "rows": [
        [
         "A8K3230",
         "99.0",
         "152.0",
         "62.0",
         "55.0",
         "103.0",
         "66.0",
         "83.0",
         "5.0",
         "74.0",
         "64.0",
         "52.0",
         "56.0"
        ],
        [
         "A8K3430",
         "91.0",
         "192.0",
         "65.0",
         "74.0",
         "90.0",
         "121.0",
         "142.0",
         "10.0",
         "156.0",
         "138.0",
         "46.0",
         "96.0"
        ],
        [
         "AAV8230",
         "161.0",
         "938.0",
         "436.0",
         "543.0",
         "445.0",
         "522.0",
         "1392.0",
         "388.0",
         "582.0",
         "751.0",
         "565.0",
         "456.0"
        ],
        [
         "AAV8330",
         "391.0",
         "394.0",
         "419.0",
         "484.0",
         "475.0",
         "454.0",
         "1391.0",
         "350.0",
         "568.0",
         "635.0",
         "482.0",
         "416.0"
        ],
        [
         "T671600",
         null,
         null,
         null,
         null,
         null,
         null,
         null,
         null,
         null,
         "3.0",
         null,
         null
        ]
       ],
       "shape": {
        "columns": 12,
        "rows": 5
       }
      },
      "text/html": [
       "<div>\n",
       "<style scoped>\n",
       "    .dataframe tbody tr th:only-of-type {\n",
       "        vertical-align: middle;\n",
       "    }\n",
       "\n",
       "    .dataframe tbody tr th {\n",
       "        vertical-align: top;\n",
       "    }\n",
       "\n",
       "    .dataframe thead th {\n",
       "        text-align: right;\n",
       "    }\n",
       "</style>\n",
       "<table border=\"1\" class=\"dataframe\">\n",
       "  <thead>\n",
       "    <tr style=\"text-align: right;\">\n",
       "      <th>ano_mes</th>\n",
       "      <th>2024-06</th>\n",
       "      <th>2024-07</th>\n",
       "      <th>2024-08</th>\n",
       "      <th>2024-09</th>\n",
       "      <th>2024-10</th>\n",
       "      <th>2024-11</th>\n",
       "      <th>2024-12</th>\n",
       "      <th>2025-01</th>\n",
       "      <th>2025-02</th>\n",
       "      <th>2025-03</th>\n",
       "      <th>2025-04</th>\n",
       "      <th>2025-05</th>\n",
       "    </tr>\n",
       "    <tr>\n",
       "      <th>material</th>\n",
       "      <th></th>\n",
       "      <th></th>\n",
       "      <th></th>\n",
       "      <th></th>\n",
       "      <th></th>\n",
       "      <th></th>\n",
       "      <th></th>\n",
       "      <th></th>\n",
       "      <th></th>\n",
       "      <th></th>\n",
       "      <th></th>\n",
       "      <th></th>\n",
       "    </tr>\n",
       "  </thead>\n",
       "  <tbody>\n",
       "    <tr>\n",
       "      <th>A8K3230</th>\n",
       "      <td>99.0</td>\n",
       "      <td>152.0</td>\n",
       "      <td>62.0</td>\n",
       "      <td>55.0</td>\n",
       "      <td>103.0</td>\n",
       "      <td>66.0</td>\n",
       "      <td>83.0</td>\n",
       "      <td>5.0</td>\n",
       "      <td>74.0</td>\n",
       "      <td>64.0</td>\n",
       "      <td>52.0</td>\n",
       "      <td>56.0</td>\n",
       "    </tr>\n",
       "    <tr>\n",
       "      <th>A8K3430</th>\n",
       "      <td>91.0</td>\n",
       "      <td>192.0</td>\n",
       "      <td>65.0</td>\n",
       "      <td>74.0</td>\n",
       "      <td>90.0</td>\n",
       "      <td>121.0</td>\n",
       "      <td>142.0</td>\n",
       "      <td>10.0</td>\n",
       "      <td>156.0</td>\n",
       "      <td>138.0</td>\n",
       "      <td>46.0</td>\n",
       "      <td>96.0</td>\n",
       "    </tr>\n",
       "    <tr>\n",
       "      <th>AAV8230</th>\n",
       "      <td>161.0</td>\n",
       "      <td>938.0</td>\n",
       "      <td>436.0</td>\n",
       "      <td>543.0</td>\n",
       "      <td>445.0</td>\n",
       "      <td>522.0</td>\n",
       "      <td>1392.0</td>\n",
       "      <td>388.0</td>\n",
       "      <td>582.0</td>\n",
       "      <td>751.0</td>\n",
       "      <td>565.0</td>\n",
       "      <td>456.0</td>\n",
       "    </tr>\n",
       "    <tr>\n",
       "      <th>AAV8330</th>\n",
       "      <td>391.0</td>\n",
       "      <td>394.0</td>\n",
       "      <td>419.0</td>\n",
       "      <td>484.0</td>\n",
       "      <td>475.0</td>\n",
       "      <td>454.0</td>\n",
       "      <td>1391.0</td>\n",
       "      <td>350.0</td>\n",
       "      <td>568.0</td>\n",
       "      <td>635.0</td>\n",
       "      <td>482.0</td>\n",
       "      <td>416.0</td>\n",
       "    </tr>\n",
       "    <tr>\n",
       "      <th>T671600</th>\n",
       "      <td>NaN</td>\n",
       "      <td>NaN</td>\n",
       "      <td>NaN</td>\n",
       "      <td>NaN</td>\n",
       "      <td>NaN</td>\n",
       "      <td>NaN</td>\n",
       "      <td>NaN</td>\n",
       "      <td>NaN</td>\n",
       "      <td>NaN</td>\n",
       "      <td>3.0</td>\n",
       "      <td>NaN</td>\n",
       "      <td>NaN</td>\n",
       "    </tr>\n",
       "  </tbody>\n",
       "</table>\n",
       "</div>"
      ],
      "text/plain": [
       "ano_mes   2024-06  2024-07  2024-08  2024-09  2024-10  2024-11  2024-12  \\\n",
       "material                                                                  \n",
       "A8K3230      99.0    152.0     62.0     55.0    103.0     66.0     83.0   \n",
       "A8K3430      91.0    192.0     65.0     74.0     90.0    121.0    142.0   \n",
       "AAV8230     161.0    938.0    436.0    543.0    445.0    522.0   1392.0   \n",
       "AAV8330     391.0    394.0    419.0    484.0    475.0    454.0   1391.0   \n",
       "T671600       NaN      NaN      NaN      NaN      NaN      NaN      NaN   \n",
       "\n",
       "ano_mes   2025-01  2025-02  2025-03  2025-04  2025-05  \n",
       "material                                               \n",
       "A8K3230       5.0     74.0     64.0     52.0     56.0  \n",
       "A8K3430      10.0    156.0    138.0     46.0     96.0  \n",
       "AAV8230     388.0    582.0    751.0    565.0    456.0  \n",
       "AAV8330     350.0    568.0    635.0    482.0    416.0  \n",
       "T671600       NaN      NaN      3.0      NaN      NaN  "
      ]
     },
     "execution_count": 37,
     "metadata": {},
     "output_type": "execute_result"
    }
   ],
   "source": [
    "zmb51_pivot_sem_ce07"
   ]
  },
  {
   "cell_type": "code",
   "execution_count": 38,
   "id": "2d57ea4f",
   "metadata": {},
   "outputs": [
    {
     "data": {
      "application/vnd.microsoft.datawrangler.viewer.v0+json": {
       "columns": [
        {
         "name": "material",
         "rawType": "object",
         "type": "string"
        },
        {
         "name": "2024-06",
         "rawType": "float64",
         "type": "float"
        },
        {
         "name": "2024-07",
         "rawType": "float64",
         "type": "float"
        },
        {
         "name": "2024-08",
         "rawType": "float64",
         "type": "float"
        },
        {
         "name": "2024-09",
         "rawType": "float64",
         "type": "float"
        },
        {
         "name": "2024-10",
         "rawType": "float64",
         "type": "float"
        },
        {
         "name": "2024-11",
         "rawType": "float64",
         "type": "float"
        },
        {
         "name": "2024-12",
         "rawType": "float64",
         "type": "float"
        },
        {
         "name": "2025-01",
         "rawType": "float64",
         "type": "float"
        },
        {
         "name": "2025-02",
         "rawType": "float64",
         "type": "float"
        },
        {
         "name": "2025-03",
         "rawType": "float64",
         "type": "float"
        },
        {
         "name": "2025-04",
         "rawType": "float64",
         "type": "float"
        },
        {
         "name": "2025-05",
         "rawType": "float64",
         "type": "float"
        }
       ],
       "ref": "b6f2e40f-c8fb-46d0-8ea1-4f164b3dc32f",
       "rows": [
        [
         "A8K3230",
         "6.0",
         "5.0",
         "7.0",
         "7.0",
         "6.0",
         "5.0",
         "5.0",
         "9.0",
         "2.0",
         "4.0",
         "5.0",
         "6.0"
        ],
        [
         "A8K3430",
         "5.0",
         "2.0",
         "3.0",
         "5.0",
         "5.0",
         "5.0",
         "5.0",
         "8.0",
         "2.0",
         "2.0",
         "6.0",
         "5.0"
        ],
        [
         "AAV8230",
         "6.0",
         "9.0",
         "14.0",
         "17.0",
         "19.0",
         "12.0",
         "23.0",
         "7.0",
         "19.0",
         "20.0",
         "23.0",
         "23.0"
        ],
        [
         "AAV8330",
         "10.0",
         "12.0",
         "11.0",
         "15.0",
         "19.0",
         "14.0",
         "23.0",
         "8.0",
         "16.0",
         "15.0",
         "21.0",
         "28.0"
        ],
        [
         "T671600",
         "1.0",
         null,
         null,
         "1.0",
         "1.0",
         null,
         "1.0",
         null,
         null,
         null,
         null,
         "1.0"
        ]
       ],
       "shape": {
        "columns": 12,
        "rows": 5
       }
      },
      "text/html": [
       "<div>\n",
       "<style scoped>\n",
       "    .dataframe tbody tr th:only-of-type {\n",
       "        vertical-align: middle;\n",
       "    }\n",
       "\n",
       "    .dataframe tbody tr th {\n",
       "        vertical-align: top;\n",
       "    }\n",
       "\n",
       "    .dataframe thead th {\n",
       "        text-align: right;\n",
       "    }\n",
       "</style>\n",
       "<table border=\"1\" class=\"dataframe\">\n",
       "  <thead>\n",
       "    <tr style=\"text-align: right;\">\n",
       "      <th>ano_mes</th>\n",
       "      <th>2024-06</th>\n",
       "      <th>2024-07</th>\n",
       "      <th>2024-08</th>\n",
       "      <th>2024-09</th>\n",
       "      <th>2024-10</th>\n",
       "      <th>2024-11</th>\n",
       "      <th>2024-12</th>\n",
       "      <th>2025-01</th>\n",
       "      <th>2025-02</th>\n",
       "      <th>2025-03</th>\n",
       "      <th>2025-04</th>\n",
       "      <th>2025-05</th>\n",
       "    </tr>\n",
       "    <tr>\n",
       "      <th>material</th>\n",
       "      <th></th>\n",
       "      <th></th>\n",
       "      <th></th>\n",
       "      <th></th>\n",
       "      <th></th>\n",
       "      <th></th>\n",
       "      <th></th>\n",
       "      <th></th>\n",
       "      <th></th>\n",
       "      <th></th>\n",
       "      <th></th>\n",
       "      <th></th>\n",
       "    </tr>\n",
       "  </thead>\n",
       "  <tbody>\n",
       "    <tr>\n",
       "      <th>A8K3230</th>\n",
       "      <td>6.0</td>\n",
       "      <td>5.0</td>\n",
       "      <td>7.0</td>\n",
       "      <td>7.0</td>\n",
       "      <td>6.0</td>\n",
       "      <td>5.0</td>\n",
       "      <td>5.0</td>\n",
       "      <td>9.0</td>\n",
       "      <td>2.0</td>\n",
       "      <td>4.0</td>\n",
       "      <td>5.0</td>\n",
       "      <td>6.0</td>\n",
       "    </tr>\n",
       "    <tr>\n",
       "      <th>A8K3430</th>\n",
       "      <td>5.0</td>\n",
       "      <td>2.0</td>\n",
       "      <td>3.0</td>\n",
       "      <td>5.0</td>\n",
       "      <td>5.0</td>\n",
       "      <td>5.0</td>\n",
       "      <td>5.0</td>\n",
       "      <td>8.0</td>\n",
       "      <td>2.0</td>\n",
       "      <td>2.0</td>\n",
       "      <td>6.0</td>\n",
       "      <td>5.0</td>\n",
       "    </tr>\n",
       "    <tr>\n",
       "      <th>AAV8230</th>\n",
       "      <td>6.0</td>\n",
       "      <td>9.0</td>\n",
       "      <td>14.0</td>\n",
       "      <td>17.0</td>\n",
       "      <td>19.0</td>\n",
       "      <td>12.0</td>\n",
       "      <td>23.0</td>\n",
       "      <td>7.0</td>\n",
       "      <td>19.0</td>\n",
       "      <td>20.0</td>\n",
       "      <td>23.0</td>\n",
       "      <td>23.0</td>\n",
       "    </tr>\n",
       "    <tr>\n",
       "      <th>AAV8330</th>\n",
       "      <td>10.0</td>\n",
       "      <td>12.0</td>\n",
       "      <td>11.0</td>\n",
       "      <td>15.0</td>\n",
       "      <td>19.0</td>\n",
       "      <td>14.0</td>\n",
       "      <td>23.0</td>\n",
       "      <td>8.0</td>\n",
       "      <td>16.0</td>\n",
       "      <td>15.0</td>\n",
       "      <td>21.0</td>\n",
       "      <td>28.0</td>\n",
       "    </tr>\n",
       "    <tr>\n",
       "      <th>T671600</th>\n",
       "      <td>1.0</td>\n",
       "      <td>NaN</td>\n",
       "      <td>NaN</td>\n",
       "      <td>1.0</td>\n",
       "      <td>1.0</td>\n",
       "      <td>NaN</td>\n",
       "      <td>1.0</td>\n",
       "      <td>NaN</td>\n",
       "      <td>NaN</td>\n",
       "      <td>NaN</td>\n",
       "      <td>NaN</td>\n",
       "      <td>1.0</td>\n",
       "    </tr>\n",
       "  </tbody>\n",
       "</table>\n",
       "</div>"
      ],
      "text/plain": [
       "ano_mes   2024-06  2024-07  2024-08  2024-09  2024-10  2024-11  2024-12  \\\n",
       "material                                                                  \n",
       "A8K3230       6.0      5.0      7.0      7.0      6.0      5.0      5.0   \n",
       "A8K3430       5.0      2.0      3.0      5.0      5.0      5.0      5.0   \n",
       "AAV8230       6.0      9.0     14.0     17.0     19.0     12.0     23.0   \n",
       "AAV8330      10.0     12.0     11.0     15.0     19.0     14.0     23.0   \n",
       "T671600       1.0      NaN      NaN      1.0      1.0      NaN      1.0   \n",
       "\n",
       "ano_mes   2025-01  2025-02  2025-03  2025-04  2025-05  \n",
       "material                                               \n",
       "A8K3230       9.0      2.0      4.0      5.0      6.0  \n",
       "A8K3430       8.0      2.0      2.0      6.0      5.0  \n",
       "AAV8230       7.0     19.0     20.0     23.0     23.0  \n",
       "AAV8330       8.0     16.0     15.0     21.0     28.0  \n",
       "T671600       NaN      NaN      NaN      NaN      1.0  "
      ]
     },
     "execution_count": 38,
     "metadata": {},
     "output_type": "execute_result"
    }
   ],
   "source": [
    "zmb51_pivot_ce07"
   ]
  },
  {
   "cell_type": "code",
   "execution_count": null,
   "id": "0e879399",
   "metadata": {},
   "outputs": [],
   "source": [
    "zstok_pivot_ce07 = zstok_pivot[['CE07']]  "
   ]
  },
  {
   "cell_type": "code",
   "execution_count": 42,
   "id": "2c95a603",
   "metadata": {},
   "outputs": [
    {
     "data": {
      "application/vnd.microsoft.datawrangler.viewer.v0+json": {
       "columns": [
        {
         "name": "material",
         "rawType": "object",
         "type": "string"
        },
        {
         "name": "CE07",
         "rawType": "float64",
         "type": "float"
        }
       ],
       "ref": "98b9c0ff-5f9c-4a9e-ae14-97fc6691285f",
       "rows": [
        [
         "A8K3230",
         "16.0"
        ],
        [
         "A8K3430",
         "9.0"
        ],
        [
         "AAV8230",
         "21.5"
        ],
        [
         "AAV8330",
         "35.0"
        ]
       ],
       "shape": {
        "columns": 1,
        "rows": 4
       }
      },
      "text/html": [
       "<div>\n",
       "<style scoped>\n",
       "    .dataframe tbody tr th:only-of-type {\n",
       "        vertical-align: middle;\n",
       "    }\n",
       "\n",
       "    .dataframe tbody tr th {\n",
       "        vertical-align: top;\n",
       "    }\n",
       "\n",
       "    .dataframe thead th {\n",
       "        text-align: right;\n",
       "    }\n",
       "</style>\n",
       "<table border=\"1\" class=\"dataframe\">\n",
       "  <thead>\n",
       "    <tr style=\"text-align: right;\">\n",
       "      <th>centro</th>\n",
       "      <th>CE07</th>\n",
       "    </tr>\n",
       "    <tr>\n",
       "      <th>material</th>\n",
       "      <th></th>\n",
       "    </tr>\n",
       "  </thead>\n",
       "  <tbody>\n",
       "    <tr>\n",
       "      <th>A8K3230</th>\n",
       "      <td>16.0</td>\n",
       "    </tr>\n",
       "    <tr>\n",
       "      <th>A8K3430</th>\n",
       "      <td>9.0</td>\n",
       "    </tr>\n",
       "    <tr>\n",
       "      <th>AAV8230</th>\n",
       "      <td>21.5</td>\n",
       "    </tr>\n",
       "    <tr>\n",
       "      <th>AAV8330</th>\n",
       "      <td>35.0</td>\n",
       "    </tr>\n",
       "  </tbody>\n",
       "</table>\n",
       "</div>"
      ],
      "text/plain": [
       "centro    CE07\n",
       "material      \n",
       "A8K3230   16.0\n",
       "A8K3430    9.0\n",
       "AAV8230   21.5\n",
       "AAV8330   35.0"
      ]
     },
     "execution_count": 42,
     "metadata": {},
     "output_type": "execute_result"
    }
   ],
   "source": [
    "zstok_pivot_ce07"
   ]
  },
  {
   "cell_type": "code",
   "execution_count": 43,
   "id": "e3be5ce4",
   "metadata": {},
   "outputs": [
    {
     "data": {
      "application/vnd.microsoft.datawrangler.viewer.v0+json": {
       "columns": [
        {
         "name": "material",
         "rawType": "object",
         "type": "string"
        },
        {
         "name": "2024-06",
         "rawType": "float64",
         "type": "float"
        },
        {
         "name": "2024-07",
         "rawType": "float64",
         "type": "float"
        },
        {
         "name": "2024-08",
         "rawType": "float64",
         "type": "float"
        },
        {
         "name": "2024-09",
         "rawType": "float64",
         "type": "float"
        },
        {
         "name": "2024-10",
         "rawType": "float64",
         "type": "float"
        },
        {
         "name": "2024-11",
         "rawType": "float64",
         "type": "float"
        },
        {
         "name": "2024-12",
         "rawType": "float64",
         "type": "float"
        },
        {
         "name": "2025-01",
         "rawType": "float64",
         "type": "float"
        },
        {
         "name": "2025-02",
         "rawType": "float64",
         "type": "float"
        },
        {
         "name": "2025-03",
         "rawType": "float64",
         "type": "float"
        },
        {
         "name": "2025-04",
         "rawType": "float64",
         "type": "float"
        },
        {
         "name": "2025-05",
         "rawType": "float64",
         "type": "float"
        }
       ],
       "ref": "811deec5-63b9-44ca-952d-b5fb7d218bfb",
       "rows": [
        [
         "A8K3230",
         "6.0",
         "5.0",
         "7.0",
         "7.0",
         "6.0",
         "5.0",
         "5.0",
         "9.0",
         "2.0",
         "4.0",
         "5.0",
         "6.0"
        ],
        [
         "A8K3430",
         "5.0",
         "2.0",
         "3.0",
         "5.0",
         "5.0",
         "5.0",
         "5.0",
         "8.0",
         "2.0",
         "2.0",
         "6.0",
         "5.0"
        ],
        [
         "AAV8230",
         "6.0",
         "9.0",
         "14.0",
         "17.0",
         "19.0",
         "12.0",
         "23.0",
         "7.0",
         "19.0",
         "20.0",
         "23.0",
         "23.0"
        ],
        [
         "AAV8330",
         "10.0",
         "12.0",
         "11.0",
         "15.0",
         "19.0",
         "14.0",
         "23.0",
         "8.0",
         "16.0",
         "15.0",
         "21.0",
         "28.0"
        ],
        [
         "T671600",
         "1.0",
         null,
         null,
         "1.0",
         "1.0",
         null,
         "1.0",
         null,
         null,
         null,
         null,
         "1.0"
        ]
       ],
       "shape": {
        "columns": 12,
        "rows": 5
       }
      },
      "text/html": [
       "<div>\n",
       "<style scoped>\n",
       "    .dataframe tbody tr th:only-of-type {\n",
       "        vertical-align: middle;\n",
       "    }\n",
       "\n",
       "    .dataframe tbody tr th {\n",
       "        vertical-align: top;\n",
       "    }\n",
       "\n",
       "    .dataframe thead th {\n",
       "        text-align: right;\n",
       "    }\n",
       "</style>\n",
       "<table border=\"1\" class=\"dataframe\">\n",
       "  <thead>\n",
       "    <tr style=\"text-align: right;\">\n",
       "      <th>ano_mes</th>\n",
       "      <th>2024-06</th>\n",
       "      <th>2024-07</th>\n",
       "      <th>2024-08</th>\n",
       "      <th>2024-09</th>\n",
       "      <th>2024-10</th>\n",
       "      <th>2024-11</th>\n",
       "      <th>2024-12</th>\n",
       "      <th>2025-01</th>\n",
       "      <th>2025-02</th>\n",
       "      <th>2025-03</th>\n",
       "      <th>2025-04</th>\n",
       "      <th>2025-05</th>\n",
       "    </tr>\n",
       "    <tr>\n",
       "      <th>material</th>\n",
       "      <th></th>\n",
       "      <th></th>\n",
       "      <th></th>\n",
       "      <th></th>\n",
       "      <th></th>\n",
       "      <th></th>\n",
       "      <th></th>\n",
       "      <th></th>\n",
       "      <th></th>\n",
       "      <th></th>\n",
       "      <th></th>\n",
       "      <th></th>\n",
       "    </tr>\n",
       "  </thead>\n",
       "  <tbody>\n",
       "    <tr>\n",
       "      <th>A8K3230</th>\n",
       "      <td>6.0</td>\n",
       "      <td>5.0</td>\n",
       "      <td>7.0</td>\n",
       "      <td>7.0</td>\n",
       "      <td>6.0</td>\n",
       "      <td>5.0</td>\n",
       "      <td>5.0</td>\n",
       "      <td>9.0</td>\n",
       "      <td>2.0</td>\n",
       "      <td>4.0</td>\n",
       "      <td>5.0</td>\n",
       "      <td>6.0</td>\n",
       "    </tr>\n",
       "    <tr>\n",
       "      <th>A8K3430</th>\n",
       "      <td>5.0</td>\n",
       "      <td>2.0</td>\n",
       "      <td>3.0</td>\n",
       "      <td>5.0</td>\n",
       "      <td>5.0</td>\n",
       "      <td>5.0</td>\n",
       "      <td>5.0</td>\n",
       "      <td>8.0</td>\n",
       "      <td>2.0</td>\n",
       "      <td>2.0</td>\n",
       "      <td>6.0</td>\n",
       "      <td>5.0</td>\n",
       "    </tr>\n",
       "    <tr>\n",
       "      <th>AAV8230</th>\n",
       "      <td>6.0</td>\n",
       "      <td>9.0</td>\n",
       "      <td>14.0</td>\n",
       "      <td>17.0</td>\n",
       "      <td>19.0</td>\n",
       "      <td>12.0</td>\n",
       "      <td>23.0</td>\n",
       "      <td>7.0</td>\n",
       "      <td>19.0</td>\n",
       "      <td>20.0</td>\n",
       "      <td>23.0</td>\n",
       "      <td>23.0</td>\n",
       "    </tr>\n",
       "    <tr>\n",
       "      <th>AAV8330</th>\n",
       "      <td>10.0</td>\n",
       "      <td>12.0</td>\n",
       "      <td>11.0</td>\n",
       "      <td>15.0</td>\n",
       "      <td>19.0</td>\n",
       "      <td>14.0</td>\n",
       "      <td>23.0</td>\n",
       "      <td>8.0</td>\n",
       "      <td>16.0</td>\n",
       "      <td>15.0</td>\n",
       "      <td>21.0</td>\n",
       "      <td>28.0</td>\n",
       "    </tr>\n",
       "    <tr>\n",
       "      <th>T671600</th>\n",
       "      <td>1.0</td>\n",
       "      <td>NaN</td>\n",
       "      <td>NaN</td>\n",
       "      <td>1.0</td>\n",
       "      <td>1.0</td>\n",
       "      <td>NaN</td>\n",
       "      <td>1.0</td>\n",
       "      <td>NaN</td>\n",
       "      <td>NaN</td>\n",
       "      <td>NaN</td>\n",
       "      <td>NaN</td>\n",
       "      <td>1.0</td>\n",
       "    </tr>\n",
       "  </tbody>\n",
       "</table>\n",
       "</div>"
      ],
      "text/plain": [
       "ano_mes   2024-06  2024-07  2024-08  2024-09  2024-10  2024-11  2024-12  \\\n",
       "material                                                                  \n",
       "A8K3230       6.0      5.0      7.0      7.0      6.0      5.0      5.0   \n",
       "A8K3430       5.0      2.0      3.0      5.0      5.0      5.0      5.0   \n",
       "AAV8230       6.0      9.0     14.0     17.0     19.0     12.0     23.0   \n",
       "AAV8330      10.0     12.0     11.0     15.0     19.0     14.0     23.0   \n",
       "T671600       1.0      NaN      NaN      1.0      1.0      NaN      1.0   \n",
       "\n",
       "ano_mes   2025-01  2025-02  2025-03  2025-04  2025-05  \n",
       "material                                               \n",
       "A8K3230       9.0      2.0      4.0      5.0      6.0  \n",
       "A8K3430       8.0      2.0      2.0      6.0      5.0  \n",
       "AAV8230       7.0     19.0     20.0     23.0     23.0  \n",
       "AAV8330       8.0     16.0     15.0     21.0     28.0  \n",
       "T671600       NaN      NaN      NaN      NaN      1.0  "
      ]
     },
     "execution_count": 43,
     "metadata": {},
     "output_type": "execute_result"
    }
   ],
   "source": [
    "zmb51_pivot_ce07"
   ]
  },
  {
   "cell_type": "code",
   "execution_count": null,
   "id": "23c659e6",
   "metadata": {},
   "outputs": [],
   "source": [
    "zmb51_pivot_ce07 = zmb51_pivot_ce07.sort_index(axis=1)\n",
    "\n",
    "zmb51_pivot_ce07['media_3m'] = zmb51_pivot_ce07.iloc[:, -3:].mean(axis=1)\n",
    "zmb51_pivot_ce07['media_6m'] = zmb51_pivot_ce07.iloc[:, -6:].mean(axis=1)\n"
   ]
  },
  {
   "cell_type": "code",
   "execution_count": 47,
   "id": "a31d6ee4",
   "metadata": {},
   "outputs": [
    {
     "data": {
      "application/vnd.microsoft.datawrangler.viewer.v0+json": {
       "columns": [
        {
         "name": "material",
         "rawType": "object",
         "type": "string"
        },
        {
         "name": "2024-06",
         "rawType": "float64",
         "type": "float"
        },
        {
         "name": "2024-07",
         "rawType": "float64",
         "type": "float"
        },
        {
         "name": "2024-08",
         "rawType": "float64",
         "type": "float"
        },
        {
         "name": "2024-09",
         "rawType": "float64",
         "type": "float"
        },
        {
         "name": "2024-10",
         "rawType": "float64",
         "type": "float"
        },
        {
         "name": "2024-11",
         "rawType": "float64",
         "type": "float"
        },
        {
         "name": "2024-12",
         "rawType": "float64",
         "type": "float"
        },
        {
         "name": "2025-01",
         "rawType": "float64",
         "type": "float"
        },
        {
         "name": "2025-02",
         "rawType": "float64",
         "type": "float"
        },
        {
         "name": "2025-03",
         "rawType": "float64",
         "type": "float"
        },
        {
         "name": "2025-04",
         "rawType": "float64",
         "type": "float"
        },
        {
         "name": "2025-05",
         "rawType": "float64",
         "type": "float"
        },
        {
         "name": "media_3m",
         "rawType": "float64",
         "type": "float"
        },
        {
         "name": "media_6m",
         "rawType": "float64",
         "type": "float"
        }
       ],
       "ref": "af626ca3-29ef-4c89-a1fc-0accaaf14734",
       "rows": [
        [
         "A8K3230",
         "6.0",
         "5.0",
         "7.0",
         "7.0",
         "6.0",
         "5.0",
         "5.0",
         "9.0",
         "2.0",
         "4.0",
         "5.0",
         "6.0",
         "5.0",
         "5.166666666666667"
        ],
        [
         "A8K3430",
         "5.0",
         "2.0",
         "3.0",
         "5.0",
         "5.0",
         "5.0",
         "5.0",
         "8.0",
         "2.0",
         "2.0",
         "6.0",
         "5.0",
         "4.333333333333333",
         "4.555555555555555"
        ],
        [
         "AAV8230",
         "6.0",
         "9.0",
         "14.0",
         "17.0",
         "19.0",
         "12.0",
         "23.0",
         "7.0",
         "19.0",
         "20.0",
         "23.0",
         "23.0",
         "22.0",
         "19.0"
        ],
        [
         "AAV8330",
         "10.0",
         "12.0",
         "11.0",
         "15.0",
         "19.0",
         "14.0",
         "23.0",
         "8.0",
         "16.0",
         "15.0",
         "21.0",
         "28.0",
         "21.333333333333332",
         "18.22222222222222"
        ],
        [
         "T671600",
         "1.0",
         null,
         null,
         "1.0",
         "1.0",
         null,
         "1.0",
         null,
         null,
         null,
         null,
         "1.0",
         "1.0",
         "1.0"
        ]
       ],
       "shape": {
        "columns": 14,
        "rows": 5
       }
      },
      "text/html": [
       "<div>\n",
       "<style scoped>\n",
       "    .dataframe tbody tr th:only-of-type {\n",
       "        vertical-align: middle;\n",
       "    }\n",
       "\n",
       "    .dataframe tbody tr th {\n",
       "        vertical-align: top;\n",
       "    }\n",
       "\n",
       "    .dataframe thead th {\n",
       "        text-align: right;\n",
       "    }\n",
       "</style>\n",
       "<table border=\"1\" class=\"dataframe\">\n",
       "  <thead>\n",
       "    <tr style=\"text-align: right;\">\n",
       "      <th>ano_mes</th>\n",
       "      <th>2024-06</th>\n",
       "      <th>2024-07</th>\n",
       "      <th>2024-08</th>\n",
       "      <th>2024-09</th>\n",
       "      <th>2024-10</th>\n",
       "      <th>2024-11</th>\n",
       "      <th>2024-12</th>\n",
       "      <th>2025-01</th>\n",
       "      <th>2025-02</th>\n",
       "      <th>2025-03</th>\n",
       "      <th>2025-04</th>\n",
       "      <th>2025-05</th>\n",
       "      <th>media_3m</th>\n",
       "      <th>media_6m</th>\n",
       "    </tr>\n",
       "    <tr>\n",
       "      <th>material</th>\n",
       "      <th></th>\n",
       "      <th></th>\n",
       "      <th></th>\n",
       "      <th></th>\n",
       "      <th></th>\n",
       "      <th></th>\n",
       "      <th></th>\n",
       "      <th></th>\n",
       "      <th></th>\n",
       "      <th></th>\n",
       "      <th></th>\n",
       "      <th></th>\n",
       "      <th></th>\n",
       "      <th></th>\n",
       "    </tr>\n",
       "  </thead>\n",
       "  <tbody>\n",
       "    <tr>\n",
       "      <th>A8K3230</th>\n",
       "      <td>6.0</td>\n",
       "      <td>5.0</td>\n",
       "      <td>7.0</td>\n",
       "      <td>7.0</td>\n",
       "      <td>6.0</td>\n",
       "      <td>5.0</td>\n",
       "      <td>5.0</td>\n",
       "      <td>9.0</td>\n",
       "      <td>2.0</td>\n",
       "      <td>4.0</td>\n",
       "      <td>5.0</td>\n",
       "      <td>6.0</td>\n",
       "      <td>5.000000</td>\n",
       "      <td>5.166667</td>\n",
       "    </tr>\n",
       "    <tr>\n",
       "      <th>A8K3430</th>\n",
       "      <td>5.0</td>\n",
       "      <td>2.0</td>\n",
       "      <td>3.0</td>\n",
       "      <td>5.0</td>\n",
       "      <td>5.0</td>\n",
       "      <td>5.0</td>\n",
       "      <td>5.0</td>\n",
       "      <td>8.0</td>\n",
       "      <td>2.0</td>\n",
       "      <td>2.0</td>\n",
       "      <td>6.0</td>\n",
       "      <td>5.0</td>\n",
       "      <td>4.333333</td>\n",
       "      <td>4.555556</td>\n",
       "    </tr>\n",
       "    <tr>\n",
       "      <th>AAV8230</th>\n",
       "      <td>6.0</td>\n",
       "      <td>9.0</td>\n",
       "      <td>14.0</td>\n",
       "      <td>17.0</td>\n",
       "      <td>19.0</td>\n",
       "      <td>12.0</td>\n",
       "      <td>23.0</td>\n",
       "      <td>7.0</td>\n",
       "      <td>19.0</td>\n",
       "      <td>20.0</td>\n",
       "      <td>23.0</td>\n",
       "      <td>23.0</td>\n",
       "      <td>22.000000</td>\n",
       "      <td>19.000000</td>\n",
       "    </tr>\n",
       "    <tr>\n",
       "      <th>AAV8330</th>\n",
       "      <td>10.0</td>\n",
       "      <td>12.0</td>\n",
       "      <td>11.0</td>\n",
       "      <td>15.0</td>\n",
       "      <td>19.0</td>\n",
       "      <td>14.0</td>\n",
       "      <td>23.0</td>\n",
       "      <td>8.0</td>\n",
       "      <td>16.0</td>\n",
       "      <td>15.0</td>\n",
       "      <td>21.0</td>\n",
       "      <td>28.0</td>\n",
       "      <td>21.333333</td>\n",
       "      <td>18.222222</td>\n",
       "    </tr>\n",
       "    <tr>\n",
       "      <th>T671600</th>\n",
       "      <td>1.0</td>\n",
       "      <td>NaN</td>\n",
       "      <td>NaN</td>\n",
       "      <td>1.0</td>\n",
       "      <td>1.0</td>\n",
       "      <td>NaN</td>\n",
       "      <td>1.0</td>\n",
       "      <td>NaN</td>\n",
       "      <td>NaN</td>\n",
       "      <td>NaN</td>\n",
       "      <td>NaN</td>\n",
       "      <td>1.0</td>\n",
       "      <td>1.000000</td>\n",
       "      <td>1.000000</td>\n",
       "    </tr>\n",
       "  </tbody>\n",
       "</table>\n",
       "</div>"
      ],
      "text/plain": [
       "ano_mes   2024-06  2024-07  2024-08  2024-09  2024-10  2024-11  2024-12  \\\n",
       "material                                                                  \n",
       "A8K3230       6.0      5.0      7.0      7.0      6.0      5.0      5.0   \n",
       "A8K3430       5.0      2.0      3.0      5.0      5.0      5.0      5.0   \n",
       "AAV8230       6.0      9.0     14.0     17.0     19.0     12.0     23.0   \n",
       "AAV8330      10.0     12.0     11.0     15.0     19.0     14.0     23.0   \n",
       "T671600       1.0      NaN      NaN      1.0      1.0      NaN      1.0   \n",
       "\n",
       "ano_mes   2025-01  2025-02  2025-03  2025-04  2025-05   media_3m   media_6m  \n",
       "material                                                                     \n",
       "A8K3230       9.0      2.0      4.0      5.0      6.0   5.000000   5.166667  \n",
       "A8K3430       8.0      2.0      2.0      6.0      5.0   4.333333   4.555556  \n",
       "AAV8230       7.0     19.0     20.0     23.0     23.0  22.000000  19.000000  \n",
       "AAV8330       8.0     16.0     15.0     21.0     28.0  21.333333  18.222222  \n",
       "T671600       NaN      NaN      NaN      NaN      1.0   1.000000   1.000000  "
      ]
     },
     "execution_count": 47,
     "metadata": {},
     "output_type": "execute_result"
    }
   ],
   "source": [
    "zmb51_pivot_ce07"
   ]
  },
  {
   "cell_type": "code",
   "execution_count": 48,
   "id": "232f9183",
   "metadata": {},
   "outputs": [],
   "source": [
    "zmb51_estoque_ce07 = pd.concat([zmb51_pivot_ce07, zstok_pivot_ce07], axis=1)\n"
   ]
  },
  {
   "cell_type": "code",
   "execution_count": 49,
   "id": "e2690a9b",
   "metadata": {},
   "outputs": [
    {
     "data": {
      "application/vnd.microsoft.datawrangler.viewer.v0+json": {
       "columns": [
        {
         "name": "material",
         "rawType": "object",
         "type": "string"
        },
        {
         "name": "2024-06",
         "rawType": "float64",
         "type": "float"
        },
        {
         "name": "2024-07",
         "rawType": "float64",
         "type": "float"
        },
        {
         "name": "2024-08",
         "rawType": "float64",
         "type": "float"
        },
        {
         "name": "2024-09",
         "rawType": "float64",
         "type": "float"
        },
        {
         "name": "2024-10",
         "rawType": "float64",
         "type": "float"
        },
        {
         "name": "2024-11",
         "rawType": "float64",
         "type": "float"
        },
        {
         "name": "2024-12",
         "rawType": "float64",
         "type": "float"
        },
        {
         "name": "2025-01",
         "rawType": "float64",
         "type": "float"
        },
        {
         "name": "2025-02",
         "rawType": "float64",
         "type": "float"
        },
        {
         "name": "2025-03",
         "rawType": "float64",
         "type": "float"
        },
        {
         "name": "2025-04",
         "rawType": "float64",
         "type": "float"
        },
        {
         "name": "2025-05",
         "rawType": "float64",
         "type": "float"
        },
        {
         "name": "media_3m",
         "rawType": "float64",
         "type": "float"
        },
        {
         "name": "media_6m",
         "rawType": "float64",
         "type": "float"
        },
        {
         "name": "CE07",
         "rawType": "float64",
         "type": "float"
        }
       ],
       "ref": "9134b892-4156-402e-95bf-974d46e0bc80",
       "rows": [
        [
         "A8K3230",
         "6.0",
         "5.0",
         "7.0",
         "7.0",
         "6.0",
         "5.0",
         "5.0",
         "9.0",
         "2.0",
         "4.0",
         "5.0",
         "6.0",
         "5.0",
         "5.166666666666667",
         "16.0"
        ],
        [
         "A8K3430",
         "5.0",
         "2.0",
         "3.0",
         "5.0",
         "5.0",
         "5.0",
         "5.0",
         "8.0",
         "2.0",
         "2.0",
         "6.0",
         "5.0",
         "4.333333333333333",
         "4.555555555555555",
         "9.0"
        ],
        [
         "AAV8230",
         "6.0",
         "9.0",
         "14.0",
         "17.0",
         "19.0",
         "12.0",
         "23.0",
         "7.0",
         "19.0",
         "20.0",
         "23.0",
         "23.0",
         "22.0",
         "19.0",
         "21.5"
        ],
        [
         "AAV8330",
         "10.0",
         "12.0",
         "11.0",
         "15.0",
         "19.0",
         "14.0",
         "23.0",
         "8.0",
         "16.0",
         "15.0",
         "21.0",
         "28.0",
         "21.333333333333332",
         "18.22222222222222",
         "35.0"
        ],
        [
         "T671600",
         "1.0",
         null,
         null,
         "1.0",
         "1.0",
         null,
         "1.0",
         null,
         null,
         null,
         null,
         "1.0",
         "1.0",
         "1.0",
         null
        ]
       ],
       "shape": {
        "columns": 15,
        "rows": 5
       }
      },
      "text/html": [
       "<div>\n",
       "<style scoped>\n",
       "    .dataframe tbody tr th:only-of-type {\n",
       "        vertical-align: middle;\n",
       "    }\n",
       "\n",
       "    .dataframe tbody tr th {\n",
       "        vertical-align: top;\n",
       "    }\n",
       "\n",
       "    .dataframe thead th {\n",
       "        text-align: right;\n",
       "    }\n",
       "</style>\n",
       "<table border=\"1\" class=\"dataframe\">\n",
       "  <thead>\n",
       "    <tr style=\"text-align: right;\">\n",
       "      <th></th>\n",
       "      <th>2024-06</th>\n",
       "      <th>2024-07</th>\n",
       "      <th>2024-08</th>\n",
       "      <th>2024-09</th>\n",
       "      <th>2024-10</th>\n",
       "      <th>2024-11</th>\n",
       "      <th>2024-12</th>\n",
       "      <th>2025-01</th>\n",
       "      <th>2025-02</th>\n",
       "      <th>2025-03</th>\n",
       "      <th>2025-04</th>\n",
       "      <th>2025-05</th>\n",
       "      <th>media_3m</th>\n",
       "      <th>media_6m</th>\n",
       "      <th>CE07</th>\n",
       "    </tr>\n",
       "    <tr>\n",
       "      <th>material</th>\n",
       "      <th></th>\n",
       "      <th></th>\n",
       "      <th></th>\n",
       "      <th></th>\n",
       "      <th></th>\n",
       "      <th></th>\n",
       "      <th></th>\n",
       "      <th></th>\n",
       "      <th></th>\n",
       "      <th></th>\n",
       "      <th></th>\n",
       "      <th></th>\n",
       "      <th></th>\n",
       "      <th></th>\n",
       "      <th></th>\n",
       "    </tr>\n",
       "  </thead>\n",
       "  <tbody>\n",
       "    <tr>\n",
       "      <th>A8K3230</th>\n",
       "      <td>6.0</td>\n",
       "      <td>5.0</td>\n",
       "      <td>7.0</td>\n",
       "      <td>7.0</td>\n",
       "      <td>6.0</td>\n",
       "      <td>5.0</td>\n",
       "      <td>5.0</td>\n",
       "      <td>9.0</td>\n",
       "      <td>2.0</td>\n",
       "      <td>4.0</td>\n",
       "      <td>5.0</td>\n",
       "      <td>6.0</td>\n",
       "      <td>5.000000</td>\n",
       "      <td>5.166667</td>\n",
       "      <td>16.0</td>\n",
       "    </tr>\n",
       "    <tr>\n",
       "      <th>A8K3430</th>\n",
       "      <td>5.0</td>\n",
       "      <td>2.0</td>\n",
       "      <td>3.0</td>\n",
       "      <td>5.0</td>\n",
       "      <td>5.0</td>\n",
       "      <td>5.0</td>\n",
       "      <td>5.0</td>\n",
       "      <td>8.0</td>\n",
       "      <td>2.0</td>\n",
       "      <td>2.0</td>\n",
       "      <td>6.0</td>\n",
       "      <td>5.0</td>\n",
       "      <td>4.333333</td>\n",
       "      <td>4.555556</td>\n",
       "      <td>9.0</td>\n",
       "    </tr>\n",
       "    <tr>\n",
       "      <th>AAV8230</th>\n",
       "      <td>6.0</td>\n",
       "      <td>9.0</td>\n",
       "      <td>14.0</td>\n",
       "      <td>17.0</td>\n",
       "      <td>19.0</td>\n",
       "      <td>12.0</td>\n",
       "      <td>23.0</td>\n",
       "      <td>7.0</td>\n",
       "      <td>19.0</td>\n",
       "      <td>20.0</td>\n",
       "      <td>23.0</td>\n",
       "      <td>23.0</td>\n",
       "      <td>22.000000</td>\n",
       "      <td>19.000000</td>\n",
       "      <td>21.5</td>\n",
       "    </tr>\n",
       "    <tr>\n",
       "      <th>AAV8330</th>\n",
       "      <td>10.0</td>\n",
       "      <td>12.0</td>\n",
       "      <td>11.0</td>\n",
       "      <td>15.0</td>\n",
       "      <td>19.0</td>\n",
       "      <td>14.0</td>\n",
       "      <td>23.0</td>\n",
       "      <td>8.0</td>\n",
       "      <td>16.0</td>\n",
       "      <td>15.0</td>\n",
       "      <td>21.0</td>\n",
       "      <td>28.0</td>\n",
       "      <td>21.333333</td>\n",
       "      <td>18.222222</td>\n",
       "      <td>35.0</td>\n",
       "    </tr>\n",
       "    <tr>\n",
       "      <th>T671600</th>\n",
       "      <td>1.0</td>\n",
       "      <td>NaN</td>\n",
       "      <td>NaN</td>\n",
       "      <td>1.0</td>\n",
       "      <td>1.0</td>\n",
       "      <td>NaN</td>\n",
       "      <td>1.0</td>\n",
       "      <td>NaN</td>\n",
       "      <td>NaN</td>\n",
       "      <td>NaN</td>\n",
       "      <td>NaN</td>\n",
       "      <td>1.0</td>\n",
       "      <td>1.000000</td>\n",
       "      <td>1.000000</td>\n",
       "      <td>NaN</td>\n",
       "    </tr>\n",
       "  </tbody>\n",
       "</table>\n",
       "</div>"
      ],
      "text/plain": [
       "          2024-06  2024-07  2024-08  2024-09  2024-10  2024-11  2024-12  \\\n",
       "material                                                                  \n",
       "A8K3230       6.0      5.0      7.0      7.0      6.0      5.0      5.0   \n",
       "A8K3430       5.0      2.0      3.0      5.0      5.0      5.0      5.0   \n",
       "AAV8230       6.0      9.0     14.0     17.0     19.0     12.0     23.0   \n",
       "AAV8330      10.0     12.0     11.0     15.0     19.0     14.0     23.0   \n",
       "T671600       1.0      NaN      NaN      1.0      1.0      NaN      1.0   \n",
       "\n",
       "          2025-01  2025-02  2025-03  2025-04  2025-05   media_3m   media_6m  \\\n",
       "material                                                                      \n",
       "A8K3230       9.0      2.0      4.0      5.0      6.0   5.000000   5.166667   \n",
       "A8K3430       8.0      2.0      2.0      6.0      5.0   4.333333   4.555556   \n",
       "AAV8230       7.0     19.0     20.0     23.0     23.0  22.000000  19.000000   \n",
       "AAV8330       8.0     16.0     15.0     21.0     28.0  21.333333  18.222222   \n",
       "T671600       NaN      NaN      NaN      NaN      1.0   1.000000   1.000000   \n",
       "\n",
       "          CE07  \n",
       "material        \n",
       "A8K3230   16.0  \n",
       "A8K3430    9.0  \n",
       "AAV8230   21.5  \n",
       "AAV8330   35.0  \n",
       "T671600    NaN  "
      ]
     },
     "execution_count": 49,
     "metadata": {},
     "output_type": "execute_result"
    }
   ],
   "source": [
    "zmb51_estoque_ce07"
   ]
  },
  {
   "cell_type": "code",
   "execution_count": 52,
   "id": "2d163bef",
   "metadata": {},
   "outputs": [],
   "source": [
    "zmb51_estoque_ce07.reset_index().to_json(\n",
    "    r\"C:\\Users\\fsp_adolpho.salvador\\Desktop\\Konica Minolta\\Desktop Cloud - Documentos\\Desktop\\Py\\Analise\\trasferencias\\zmb51_estoque_ce07.json\",\n",
    "    orient=\"records\",\n",
    "    indent=4\n",
    ")"
   ]
  },
  {
   "cell_type": "code",
   "execution_count": 72,
   "id": "4574737d",
   "metadata": {},
   "outputs": [],
   "source": [
    "zstok_pivot_sem_ce07 = zstok_pivot.drop(columns=['CE07'])"
   ]
  },
  {
   "cell_type": "code",
   "execution_count": 73,
   "id": "b64bc1e5",
   "metadata": {},
   "outputs": [
    {
     "data": {
      "application/vnd.microsoft.datawrangler.viewer.v0+json": {
       "columns": [
        {
         "name": "material",
         "rawType": "object",
         "type": "string"
        },
        {
         "name": "CE05",
         "rawType": "float64",
         "type": "float"
        },
        {
         "name": "CE09",
         "rawType": "float64",
         "type": "float"
        },
        {
         "name": "CE10",
         "rawType": "float64",
         "type": "float"
        },
        {
         "name": "CE11",
         "rawType": "float64",
         "type": "float"
        },
        {
         "name": "CE13",
         "rawType": "float64",
         "type": "float"
        }
       ],
       "ref": "cfe6123f-7761-4ca2-8003-5a39906d3b38",
       "rows": [
        [
         "A8K3230",
         "27.0",
         "15.0",
         null,
         "12.0",
         "485.0"
        ],
        [
         "A8K3430",
         "118.0",
         "7.0",
         "1.0",
         "36.0",
         "232.0"
        ],
        [
         "AAV8230",
         "198.0",
         "77.0",
         null,
         "164.0",
         "1980.0"
        ],
        [
         "AAV8330",
         null,
         "68.0",
         null,
         "144.0",
         "2088.0"
        ]
       ],
       "shape": {
        "columns": 5,
        "rows": 4
       }
      },
      "text/html": [
       "<div>\n",
       "<style scoped>\n",
       "    .dataframe tbody tr th:only-of-type {\n",
       "        vertical-align: middle;\n",
       "    }\n",
       "\n",
       "    .dataframe tbody tr th {\n",
       "        vertical-align: top;\n",
       "    }\n",
       "\n",
       "    .dataframe thead th {\n",
       "        text-align: right;\n",
       "    }\n",
       "</style>\n",
       "<table border=\"1\" class=\"dataframe\">\n",
       "  <thead>\n",
       "    <tr style=\"text-align: right;\">\n",
       "      <th>centro</th>\n",
       "      <th>CE05</th>\n",
       "      <th>CE09</th>\n",
       "      <th>CE10</th>\n",
       "      <th>CE11</th>\n",
       "      <th>CE13</th>\n",
       "    </tr>\n",
       "    <tr>\n",
       "      <th>material</th>\n",
       "      <th></th>\n",
       "      <th></th>\n",
       "      <th></th>\n",
       "      <th></th>\n",
       "      <th></th>\n",
       "    </tr>\n",
       "  </thead>\n",
       "  <tbody>\n",
       "    <tr>\n",
       "      <th>A8K3230</th>\n",
       "      <td>27.0</td>\n",
       "      <td>15.0</td>\n",
       "      <td>NaN</td>\n",
       "      <td>12.0</td>\n",
       "      <td>485.0</td>\n",
       "    </tr>\n",
       "    <tr>\n",
       "      <th>A8K3430</th>\n",
       "      <td>118.0</td>\n",
       "      <td>7.0</td>\n",
       "      <td>1.0</td>\n",
       "      <td>36.0</td>\n",
       "      <td>232.0</td>\n",
       "    </tr>\n",
       "    <tr>\n",
       "      <th>AAV8230</th>\n",
       "      <td>198.0</td>\n",
       "      <td>77.0</td>\n",
       "      <td>NaN</td>\n",
       "      <td>164.0</td>\n",
       "      <td>1980.0</td>\n",
       "    </tr>\n",
       "    <tr>\n",
       "      <th>AAV8330</th>\n",
       "      <td>NaN</td>\n",
       "      <td>68.0</td>\n",
       "      <td>NaN</td>\n",
       "      <td>144.0</td>\n",
       "      <td>2088.0</td>\n",
       "    </tr>\n",
       "  </tbody>\n",
       "</table>\n",
       "</div>"
      ],
      "text/plain": [
       "centro     CE05  CE09  CE10   CE11    CE13\n",
       "material                                  \n",
       "A8K3230    27.0  15.0   NaN   12.0   485.0\n",
       "A8K3430   118.0   7.0   1.0   36.0   232.0\n",
       "AAV8230   198.0  77.0   NaN  164.0  1980.0\n",
       "AAV8330     NaN  68.0   NaN  144.0  2088.0"
      ]
     },
     "execution_count": 73,
     "metadata": {},
     "output_type": "execute_result"
    }
   ],
   "source": [
    "zstok_pivot_sem_ce07"
   ]
  },
  {
   "cell_type": "code",
   "execution_count": 74,
   "id": "a41b65c0",
   "metadata": {},
   "outputs": [],
   "source": [
    "zstok_pivot_sem_ce07['media_3m'] = zstok_pivot_sem_ce07.iloc[:, -3:].mean(axis=1)\n",
    "zstok_pivot_sem_ce07['media_6m'] = zstok_pivot_sem_ce07.iloc[:, -6:].mean(axis=1)"
   ]
  },
  {
   "cell_type": "code",
   "execution_count": 75,
   "id": "7bf4dc6f",
   "metadata": {},
   "outputs": [],
   "source": [
    "zmb51_estoque_sem_ce07 = pd.concat([zmb51_pivot_sem_ce07, zstok_pivot_sem_ce07], axis=1)\n"
   ]
  },
  {
   "cell_type": "code",
   "execution_count": 76,
   "id": "2a4637b2",
   "metadata": {},
   "outputs": [
    {
     "data": {
      "application/vnd.microsoft.datawrangler.viewer.v0+json": {
       "columns": [
        {
         "name": "material",
         "rawType": "object",
         "type": "string"
        },
        {
         "name": "2024-06",
         "rawType": "float64",
         "type": "float"
        },
        {
         "name": "2024-07",
         "rawType": "float64",
         "type": "float"
        },
        {
         "name": "2024-08",
         "rawType": "float64",
         "type": "float"
        },
        {
         "name": "2024-09",
         "rawType": "float64",
         "type": "float"
        },
        {
         "name": "2024-10",
         "rawType": "float64",
         "type": "float"
        },
        {
         "name": "2024-11",
         "rawType": "float64",
         "type": "float"
        },
        {
         "name": "2024-12",
         "rawType": "float64",
         "type": "float"
        },
        {
         "name": "2025-01",
         "rawType": "float64",
         "type": "float"
        },
        {
         "name": "2025-02",
         "rawType": "float64",
         "type": "float"
        },
        {
         "name": "2025-03",
         "rawType": "float64",
         "type": "float"
        },
        {
         "name": "2025-04",
         "rawType": "float64",
         "type": "float"
        },
        {
         "name": "2025-05",
         "rawType": "float64",
         "type": "float"
        },
        {
         "name": "CE05",
         "rawType": "float64",
         "type": "float"
        },
        {
         "name": "CE09",
         "rawType": "float64",
         "type": "float"
        },
        {
         "name": "CE10",
         "rawType": "float64",
         "type": "float"
        },
        {
         "name": "CE11",
         "rawType": "float64",
         "type": "float"
        },
        {
         "name": "CE13",
         "rawType": "float64",
         "type": "float"
        },
        {
         "name": "media_3m",
         "rawType": "float64",
         "type": "float"
        },
        {
         "name": "media_6m",
         "rawType": "float64",
         "type": "float"
        }
       ],
       "ref": "774e65a8-fe0f-423b-99f1-3e6feab5d4a5",
       "rows": [
        [
         "A8K3230",
         "99.0",
         "152.0",
         "62.0",
         "55.0",
         "103.0",
         "66.0",
         "83.0",
         "5.0",
         "74.0",
         "64.0",
         "52.0",
         "56.0",
         "27.0",
         "15.0",
         null,
         "12.0",
         "485.0",
         "248.5",
         "157.5"
        ],
        [
         "A8K3430",
         "91.0",
         "192.0",
         "65.0",
         "74.0",
         "90.0",
         "121.0",
         "142.0",
         "10.0",
         "156.0",
         "138.0",
         "46.0",
         "96.0",
         "118.0",
         "7.0",
         "1.0",
         "36.0",
         "232.0",
         "89.66666666666667",
         "80.61111111111111"
        ],
        [
         "AAV8230",
         "161.0",
         "938.0",
         "436.0",
         "543.0",
         "445.0",
         "522.0",
         "1392.0",
         "388.0",
         "582.0",
         "751.0",
         "565.0",
         "456.0",
         "198.0",
         "77.0",
         null,
         "164.0",
         "1980.0",
         "1072.0",
         "698.2"
        ],
        [
         "AAV8330",
         "391.0",
         "394.0",
         "419.0",
         "484.0",
         "475.0",
         "454.0",
         "1391.0",
         "350.0",
         "568.0",
         "635.0",
         "482.0",
         "416.0",
         null,
         "68.0",
         null,
         "144.0",
         "2088.0",
         "1116.0",
         "854.0"
        ],
        [
         "T671600",
         null,
         null,
         null,
         null,
         null,
         null,
         null,
         null,
         null,
         "3.0",
         null,
         null,
         null,
         null,
         null,
         null,
         null,
         null,
         null
        ]
       ],
       "shape": {
        "columns": 19,
        "rows": 5
       }
      },
      "text/html": [
       "<div>\n",
       "<style scoped>\n",
       "    .dataframe tbody tr th:only-of-type {\n",
       "        vertical-align: middle;\n",
       "    }\n",
       "\n",
       "    .dataframe tbody tr th {\n",
       "        vertical-align: top;\n",
       "    }\n",
       "\n",
       "    .dataframe thead th {\n",
       "        text-align: right;\n",
       "    }\n",
       "</style>\n",
       "<table border=\"1\" class=\"dataframe\">\n",
       "  <thead>\n",
       "    <tr style=\"text-align: right;\">\n",
       "      <th></th>\n",
       "      <th>2024-06</th>\n",
       "      <th>2024-07</th>\n",
       "      <th>2024-08</th>\n",
       "      <th>2024-09</th>\n",
       "      <th>2024-10</th>\n",
       "      <th>2024-11</th>\n",
       "      <th>2024-12</th>\n",
       "      <th>2025-01</th>\n",
       "      <th>2025-02</th>\n",
       "      <th>2025-03</th>\n",
       "      <th>2025-04</th>\n",
       "      <th>2025-05</th>\n",
       "      <th>CE05</th>\n",
       "      <th>CE09</th>\n",
       "      <th>CE10</th>\n",
       "      <th>CE11</th>\n",
       "      <th>CE13</th>\n",
       "      <th>media_3m</th>\n",
       "      <th>media_6m</th>\n",
       "    </tr>\n",
       "    <tr>\n",
       "      <th>material</th>\n",
       "      <th></th>\n",
       "      <th></th>\n",
       "      <th></th>\n",
       "      <th></th>\n",
       "      <th></th>\n",
       "      <th></th>\n",
       "      <th></th>\n",
       "      <th></th>\n",
       "      <th></th>\n",
       "      <th></th>\n",
       "      <th></th>\n",
       "      <th></th>\n",
       "      <th></th>\n",
       "      <th></th>\n",
       "      <th></th>\n",
       "      <th></th>\n",
       "      <th></th>\n",
       "      <th></th>\n",
       "      <th></th>\n",
       "    </tr>\n",
       "  </thead>\n",
       "  <tbody>\n",
       "    <tr>\n",
       "      <th>A8K3230</th>\n",
       "      <td>99.0</td>\n",
       "      <td>152.0</td>\n",
       "      <td>62.0</td>\n",
       "      <td>55.0</td>\n",
       "      <td>103.0</td>\n",
       "      <td>66.0</td>\n",
       "      <td>83.0</td>\n",
       "      <td>5.0</td>\n",
       "      <td>74.0</td>\n",
       "      <td>64.0</td>\n",
       "      <td>52.0</td>\n",
       "      <td>56.0</td>\n",
       "      <td>27.0</td>\n",
       "      <td>15.0</td>\n",
       "      <td>NaN</td>\n",
       "      <td>12.0</td>\n",
       "      <td>485.0</td>\n",
       "      <td>248.500000</td>\n",
       "      <td>157.500000</td>\n",
       "    </tr>\n",
       "    <tr>\n",
       "      <th>A8K3430</th>\n",
       "      <td>91.0</td>\n",
       "      <td>192.0</td>\n",
       "      <td>65.0</td>\n",
       "      <td>74.0</td>\n",
       "      <td>90.0</td>\n",
       "      <td>121.0</td>\n",
       "      <td>142.0</td>\n",
       "      <td>10.0</td>\n",
       "      <td>156.0</td>\n",
       "      <td>138.0</td>\n",
       "      <td>46.0</td>\n",
       "      <td>96.0</td>\n",
       "      <td>118.0</td>\n",
       "      <td>7.0</td>\n",
       "      <td>1.0</td>\n",
       "      <td>36.0</td>\n",
       "      <td>232.0</td>\n",
       "      <td>89.666667</td>\n",
       "      <td>80.611111</td>\n",
       "    </tr>\n",
       "    <tr>\n",
       "      <th>AAV8230</th>\n",
       "      <td>161.0</td>\n",
       "      <td>938.0</td>\n",
       "      <td>436.0</td>\n",
       "      <td>543.0</td>\n",
       "      <td>445.0</td>\n",
       "      <td>522.0</td>\n",
       "      <td>1392.0</td>\n",
       "      <td>388.0</td>\n",
       "      <td>582.0</td>\n",
       "      <td>751.0</td>\n",
       "      <td>565.0</td>\n",
       "      <td>456.0</td>\n",
       "      <td>198.0</td>\n",
       "      <td>77.0</td>\n",
       "      <td>NaN</td>\n",
       "      <td>164.0</td>\n",
       "      <td>1980.0</td>\n",
       "      <td>1072.000000</td>\n",
       "      <td>698.200000</td>\n",
       "    </tr>\n",
       "    <tr>\n",
       "      <th>AAV8330</th>\n",
       "      <td>391.0</td>\n",
       "      <td>394.0</td>\n",
       "      <td>419.0</td>\n",
       "      <td>484.0</td>\n",
       "      <td>475.0</td>\n",
       "      <td>454.0</td>\n",
       "      <td>1391.0</td>\n",
       "      <td>350.0</td>\n",
       "      <td>568.0</td>\n",
       "      <td>635.0</td>\n",
       "      <td>482.0</td>\n",
       "      <td>416.0</td>\n",
       "      <td>NaN</td>\n",
       "      <td>68.0</td>\n",
       "      <td>NaN</td>\n",
       "      <td>144.0</td>\n",
       "      <td>2088.0</td>\n",
       "      <td>1116.000000</td>\n",
       "      <td>854.000000</td>\n",
       "    </tr>\n",
       "    <tr>\n",
       "      <th>T671600</th>\n",
       "      <td>NaN</td>\n",
       "      <td>NaN</td>\n",
       "      <td>NaN</td>\n",
       "      <td>NaN</td>\n",
       "      <td>NaN</td>\n",
       "      <td>NaN</td>\n",
       "      <td>NaN</td>\n",
       "      <td>NaN</td>\n",
       "      <td>NaN</td>\n",
       "      <td>3.0</td>\n",
       "      <td>NaN</td>\n",
       "      <td>NaN</td>\n",
       "      <td>NaN</td>\n",
       "      <td>NaN</td>\n",
       "      <td>NaN</td>\n",
       "      <td>NaN</td>\n",
       "      <td>NaN</td>\n",
       "      <td>NaN</td>\n",
       "      <td>NaN</td>\n",
       "    </tr>\n",
       "  </tbody>\n",
       "</table>\n",
       "</div>"
      ],
      "text/plain": [
       "          2024-06  2024-07  2024-08  2024-09  2024-10  2024-11  2024-12  \\\n",
       "material                                                                  \n",
       "A8K3230      99.0    152.0     62.0     55.0    103.0     66.0     83.0   \n",
       "A8K3430      91.0    192.0     65.0     74.0     90.0    121.0    142.0   \n",
       "AAV8230     161.0    938.0    436.0    543.0    445.0    522.0   1392.0   \n",
       "AAV8330     391.0    394.0    419.0    484.0    475.0    454.0   1391.0   \n",
       "T671600       NaN      NaN      NaN      NaN      NaN      NaN      NaN   \n",
       "\n",
       "          2025-01  2025-02  2025-03  2025-04  2025-05   CE05  CE09  CE10  \\\n",
       "material                                                                   \n",
       "A8K3230       5.0     74.0     64.0     52.0     56.0   27.0  15.0   NaN   \n",
       "A8K3430      10.0    156.0    138.0     46.0     96.0  118.0   7.0   1.0   \n",
       "AAV8230     388.0    582.0    751.0    565.0    456.0  198.0  77.0   NaN   \n",
       "AAV8330     350.0    568.0    635.0    482.0    416.0    NaN  68.0   NaN   \n",
       "T671600       NaN      NaN      3.0      NaN      NaN    NaN   NaN   NaN   \n",
       "\n",
       "           CE11    CE13     media_3m    media_6m  \n",
       "material                                          \n",
       "A8K3230    12.0   485.0   248.500000  157.500000  \n",
       "A8K3430    36.0   232.0    89.666667   80.611111  \n",
       "AAV8230   164.0  1980.0  1072.000000  698.200000  \n",
       "AAV8330   144.0  2088.0  1116.000000  854.000000  \n",
       "T671600     NaN     NaN          NaN         NaN  "
      ]
     },
     "execution_count": 76,
     "metadata": {},
     "output_type": "execute_result"
    }
   ],
   "source": [
    "zmb51_estoque_sem_ce07"
   ]
  },
  {
   "cell_type": "code",
   "execution_count": 77,
   "id": "7bcbfd49",
   "metadata": {},
   "outputs": [],
   "source": [
    "dados = {\n",
    "    \"material\": [\"A8K3430\", \"A8K3230\", \"AAV8230\", \"AAV8330\", \"T671600\"],\n",
    "    \"possivel_reducao\": [11, 4, 50, 30, 2]\n",
    "}\n",
    "dados_df = pd.DataFrame(dados).set_index(\"material\")\n",
    "zmb51_estoque_sem_ce07 = pd.concat([zmb51_pivot_sem_ce07, zstok_pivot_sem_ce07, dados_df], axis=1)\n"
   ]
  },
  {
   "cell_type": "code",
   "execution_count": 78,
   "id": "b29ab412",
   "metadata": {},
   "outputs": [
    {
     "data": {
      "text/plain": [
       "Index([           2024-06,            2024-07,            2024-08,\n",
       "                  2024-09,            2024-10,            2024-11,\n",
       "                  2024-12,            2025-01,            2025-02,\n",
       "                  2025-03,            2025-04,            2025-05,\n",
       "                   'CE05',             'CE09',             'CE10',\n",
       "                   'CE11',             'CE13',         'media_3m',\n",
       "               'media_6m', 'possivel_reducao'],\n",
       "      dtype='object')"
      ]
     },
     "execution_count": 78,
     "metadata": {},
     "output_type": "execute_result"
    }
   ],
   "source": [
    "zmb51_estoque_sem_ce07.columns"
   ]
  },
  {
   "cell_type": "code",
   "execution_count": null,
   "id": "58c65019",
   "metadata": {},
   "outputs": [],
   "source": [
    "zmb51_estoque_sem_ce07_resetado = zmb51_estoque_sem_ce07.reset_index()\n",
    "\n",
    "zmb51_estoque_sem_ce07_resetado.to_json(\n",
    "    r\"C:\\Users\\fsp_adolpho.salvador\\Desktop\\Konica Minolta\\Desktop Cloud - Documentos\\Desktop\\Py\\Analise\\trasferencias\\zmb51_estoque_sem_ce07.json\",\n",
    "    orient=\"records\",\n",
    "    indent=4\n",
    ")"
   ]
  },
  {
   "cell_type": "code",
   "execution_count": 80,
   "id": "a09cfcd1",
   "metadata": {},
   "outputs": [
    {
     "data": {
      "application/vnd.microsoft.datawrangler.viewer.v0+json": {
       "columns": [
        {
         "name": "index",
         "rawType": "int64",
         "type": "integer"
        },
        {
         "name": "material",
         "rawType": "object",
         "type": "string"
        },
        {
         "name": "2024-06",
         "rawType": "float64",
         "type": "float"
        },
        {
         "name": "2024-07",
         "rawType": "float64",
         "type": "float"
        },
        {
         "name": "2024-08",
         "rawType": "float64",
         "type": "float"
        },
        {
         "name": "2024-09",
         "rawType": "float64",
         "type": "float"
        },
        {
         "name": "2024-10",
         "rawType": "float64",
         "type": "float"
        },
        {
         "name": "2024-11",
         "rawType": "float64",
         "type": "float"
        },
        {
         "name": "2024-12",
         "rawType": "float64",
         "type": "float"
        },
        {
         "name": "2025-01",
         "rawType": "float64",
         "type": "float"
        },
        {
         "name": "2025-02",
         "rawType": "float64",
         "type": "float"
        },
        {
         "name": "2025-03",
         "rawType": "float64",
         "type": "float"
        },
        {
         "name": "2025-04",
         "rawType": "float64",
         "type": "float"
        },
        {
         "name": "2025-05",
         "rawType": "float64",
         "type": "float"
        },
        {
         "name": "CE05",
         "rawType": "float64",
         "type": "float"
        },
        {
         "name": "CE09",
         "rawType": "float64",
         "type": "float"
        },
        {
         "name": "CE10",
         "rawType": "float64",
         "type": "float"
        },
        {
         "name": "CE11",
         "rawType": "float64",
         "type": "float"
        },
        {
         "name": "CE13",
         "rawType": "float64",
         "type": "float"
        },
        {
         "name": "media_3m",
         "rawType": "float64",
         "type": "float"
        },
        {
         "name": "media_6m",
         "rawType": "float64",
         "type": "float"
        },
        {
         "name": "possivel_reducao",
         "rawType": "int64",
         "type": "integer"
        }
       ],
       "ref": "83297460-5302-478e-8fac-99338586165e",
       "rows": [
        [
         "0",
         "A8K3230",
         "99.0",
         "152.0",
         "62.0",
         "55.0",
         "103.0",
         "66.0",
         "83.0",
         "5.0",
         "74.0",
         "64.0",
         "52.0",
         "56.0",
         "27.0",
         "15.0",
         null,
         "12.0",
         "485.0",
         "248.5",
         "157.5",
         "4"
        ],
        [
         "1",
         "A8K3430",
         "91.0",
         "192.0",
         "65.0",
         "74.0",
         "90.0",
         "121.0",
         "142.0",
         "10.0",
         "156.0",
         "138.0",
         "46.0",
         "96.0",
         "118.0",
         "7.0",
         "1.0",
         "36.0",
         "232.0",
         "89.66666666666667",
         "80.61111111111111",
         "11"
        ],
        [
         "2",
         "AAV8230",
         "161.0",
         "938.0",
         "436.0",
         "543.0",
         "445.0",
         "522.0",
         "1392.0",
         "388.0",
         "582.0",
         "751.0",
         "565.0",
         "456.0",
         "198.0",
         "77.0",
         null,
         "164.0",
         "1980.0",
         "1072.0",
         "698.2",
         "50"
        ],
        [
         "3",
         "AAV8330",
         "391.0",
         "394.0",
         "419.0",
         "484.0",
         "475.0",
         "454.0",
         "1391.0",
         "350.0",
         "568.0",
         "635.0",
         "482.0",
         "416.0",
         null,
         "68.0",
         null,
         "144.0",
         "2088.0",
         "1116.0",
         "854.0",
         "30"
        ],
        [
         "4",
         "T671600",
         null,
         null,
         null,
         null,
         null,
         null,
         null,
         null,
         null,
         "3.0",
         null,
         null,
         null,
         null,
         null,
         null,
         null,
         null,
         null,
         "2"
        ]
       ],
       "shape": {
        "columns": 21,
        "rows": 5
       }
      },
      "text/html": [
       "<div>\n",
       "<style scoped>\n",
       "    .dataframe tbody tr th:only-of-type {\n",
       "        vertical-align: middle;\n",
       "    }\n",
       "\n",
       "    .dataframe tbody tr th {\n",
       "        vertical-align: top;\n",
       "    }\n",
       "\n",
       "    .dataframe thead th {\n",
       "        text-align: right;\n",
       "    }\n",
       "</style>\n",
       "<table border=\"1\" class=\"dataframe\">\n",
       "  <thead>\n",
       "    <tr style=\"text-align: right;\">\n",
       "      <th></th>\n",
       "      <th>material</th>\n",
       "      <th>2024-06</th>\n",
       "      <th>2024-07</th>\n",
       "      <th>2024-08</th>\n",
       "      <th>2024-09</th>\n",
       "      <th>2024-10</th>\n",
       "      <th>2024-11</th>\n",
       "      <th>2024-12</th>\n",
       "      <th>2025-01</th>\n",
       "      <th>2025-02</th>\n",
       "      <th>...</th>\n",
       "      <th>2025-04</th>\n",
       "      <th>2025-05</th>\n",
       "      <th>CE05</th>\n",
       "      <th>CE09</th>\n",
       "      <th>CE10</th>\n",
       "      <th>CE11</th>\n",
       "      <th>CE13</th>\n",
       "      <th>media_3m</th>\n",
       "      <th>media_6m</th>\n",
       "      <th>possivel_reducao</th>\n",
       "    </tr>\n",
       "  </thead>\n",
       "  <tbody>\n",
       "    <tr>\n",
       "      <th>0</th>\n",
       "      <td>A8K3230</td>\n",
       "      <td>99.0</td>\n",
       "      <td>152.0</td>\n",
       "      <td>62.0</td>\n",
       "      <td>55.0</td>\n",
       "      <td>103.0</td>\n",
       "      <td>66.0</td>\n",
       "      <td>83.0</td>\n",
       "      <td>5.0</td>\n",
       "      <td>74.0</td>\n",
       "      <td>...</td>\n",
       "      <td>52.0</td>\n",
       "      <td>56.0</td>\n",
       "      <td>27.0</td>\n",
       "      <td>15.0</td>\n",
       "      <td>NaN</td>\n",
       "      <td>12.0</td>\n",
       "      <td>485.0</td>\n",
       "      <td>248.500000</td>\n",
       "      <td>157.500000</td>\n",
       "      <td>4</td>\n",
       "    </tr>\n",
       "    <tr>\n",
       "      <th>1</th>\n",
       "      <td>A8K3430</td>\n",
       "      <td>91.0</td>\n",
       "      <td>192.0</td>\n",
       "      <td>65.0</td>\n",
       "      <td>74.0</td>\n",
       "      <td>90.0</td>\n",
       "      <td>121.0</td>\n",
       "      <td>142.0</td>\n",
       "      <td>10.0</td>\n",
       "      <td>156.0</td>\n",
       "      <td>...</td>\n",
       "      <td>46.0</td>\n",
       "      <td>96.0</td>\n",
       "      <td>118.0</td>\n",
       "      <td>7.0</td>\n",
       "      <td>1.0</td>\n",
       "      <td>36.0</td>\n",
       "      <td>232.0</td>\n",
       "      <td>89.666667</td>\n",
       "      <td>80.611111</td>\n",
       "      <td>11</td>\n",
       "    </tr>\n",
       "    <tr>\n",
       "      <th>2</th>\n",
       "      <td>AAV8230</td>\n",
       "      <td>161.0</td>\n",
       "      <td>938.0</td>\n",
       "      <td>436.0</td>\n",
       "      <td>543.0</td>\n",
       "      <td>445.0</td>\n",
       "      <td>522.0</td>\n",
       "      <td>1392.0</td>\n",
       "      <td>388.0</td>\n",
       "      <td>582.0</td>\n",
       "      <td>...</td>\n",
       "      <td>565.0</td>\n",
       "      <td>456.0</td>\n",
       "      <td>198.0</td>\n",
       "      <td>77.0</td>\n",
       "      <td>NaN</td>\n",
       "      <td>164.0</td>\n",
       "      <td>1980.0</td>\n",
       "      <td>1072.000000</td>\n",
       "      <td>698.200000</td>\n",
       "      <td>50</td>\n",
       "    </tr>\n",
       "    <tr>\n",
       "      <th>3</th>\n",
       "      <td>AAV8330</td>\n",
       "      <td>391.0</td>\n",
       "      <td>394.0</td>\n",
       "      <td>419.0</td>\n",
       "      <td>484.0</td>\n",
       "      <td>475.0</td>\n",
       "      <td>454.0</td>\n",
       "      <td>1391.0</td>\n",
       "      <td>350.0</td>\n",
       "      <td>568.0</td>\n",
       "      <td>...</td>\n",
       "      <td>482.0</td>\n",
       "      <td>416.0</td>\n",
       "      <td>NaN</td>\n",
       "      <td>68.0</td>\n",
       "      <td>NaN</td>\n",
       "      <td>144.0</td>\n",
       "      <td>2088.0</td>\n",
       "      <td>1116.000000</td>\n",
       "      <td>854.000000</td>\n",
       "      <td>30</td>\n",
       "    </tr>\n",
       "    <tr>\n",
       "      <th>4</th>\n",
       "      <td>T671600</td>\n",
       "      <td>NaN</td>\n",
       "      <td>NaN</td>\n",
       "      <td>NaN</td>\n",
       "      <td>NaN</td>\n",
       "      <td>NaN</td>\n",
       "      <td>NaN</td>\n",
       "      <td>NaN</td>\n",
       "      <td>NaN</td>\n",
       "      <td>NaN</td>\n",
       "      <td>...</td>\n",
       "      <td>NaN</td>\n",
       "      <td>NaN</td>\n",
       "      <td>NaN</td>\n",
       "      <td>NaN</td>\n",
       "      <td>NaN</td>\n",
       "      <td>NaN</td>\n",
       "      <td>NaN</td>\n",
       "      <td>NaN</td>\n",
       "      <td>NaN</td>\n",
       "      <td>2</td>\n",
       "    </tr>\n",
       "  </tbody>\n",
       "</table>\n",
       "<p>5 rows × 21 columns</p>\n",
       "</div>"
      ],
      "text/plain": [
       "  material  2024-06  2024-07  2024-08  2024-09  2024-10  2024-11  2024-12  \\\n",
       "0  A8K3230     99.0    152.0     62.0     55.0    103.0     66.0     83.0   \n",
       "1  A8K3430     91.0    192.0     65.0     74.0     90.0    121.0    142.0   \n",
       "2  AAV8230    161.0    938.0    436.0    543.0    445.0    522.0   1392.0   \n",
       "3  AAV8330    391.0    394.0    419.0    484.0    475.0    454.0   1391.0   \n",
       "4  T671600      NaN      NaN      NaN      NaN      NaN      NaN      NaN   \n",
       "\n",
       "   2025-01  2025-02  ...  2025-04  2025-05   CE05  CE09  CE10   CE11    CE13  \\\n",
       "0      5.0     74.0  ...     52.0     56.0   27.0  15.0   NaN   12.0   485.0   \n",
       "1     10.0    156.0  ...     46.0     96.0  118.0   7.0   1.0   36.0   232.0   \n",
       "2    388.0    582.0  ...    565.0    456.0  198.0  77.0   NaN  164.0  1980.0   \n",
       "3    350.0    568.0  ...    482.0    416.0    NaN  68.0   NaN  144.0  2088.0   \n",
       "4      NaN      NaN  ...      NaN      NaN    NaN   NaN   NaN    NaN     NaN   \n",
       "\n",
       "      media_3m    media_6m  possivel_reducao  \n",
       "0   248.500000  157.500000                 4  \n",
       "1    89.666667   80.611111                11  \n",
       "2  1072.000000  698.200000                50  \n",
       "3  1116.000000  854.000000                30  \n",
       "4          NaN         NaN                 2  \n",
       "\n",
       "[5 rows x 21 columns]"
      ]
     },
     "execution_count": 80,
     "metadata": {},
     "output_type": "execute_result"
    }
   ],
   "source": [
    "zmb51_estoque_sem_ce07_resetado"
   ]
  },
  {
   "cell_type": "code",
   "execution_count": 81,
   "id": "c12f377c",
   "metadata": {},
   "outputs": [],
   "source": [
    "fup_pivot = fup.pivot_table(\n",
    "    index='material',\n",
    "    columns='data_prev_entrada',\n",
    "    values='qtde_pedido',\n",
    "    aggfunc='sum'\n",
    ")"
   ]
  },
  {
   "cell_type": "code",
   "execution_count": 83,
   "id": "f01ebb82",
   "metadata": {},
   "outputs": [
    {
     "data": {
      "text/plain": [
       "DatetimeIndex(['2025-06-10', '2025-06-20', '2025-07-15', '2025-09-09'], dtype='datetime64[ns]', name='data_prev_entrada', freq=None)"
      ]
     },
     "execution_count": 83,
     "metadata": {},
     "output_type": "execute_result"
    }
   ],
   "source": [
    "fup_pivot.columns\n"
   ]
  }
 ],
 "metadata": {
  "kernelspec": {
   "display_name": "Python 3",
   "language": "python",
   "name": "python3"
  },
  "language_info": {
   "codemirror_mode": {
    "name": "ipython",
    "version": 3
   },
   "file_extension": ".py",
   "mimetype": "text/x-python",
   "name": "python",
   "nbconvert_exporter": "python",
   "pygments_lexer": "ipython3",
   "version": "3.12.3"
  }
 },
 "nbformat": 4,
 "nbformat_minor": 5
}
